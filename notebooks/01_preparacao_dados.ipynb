{
  "cells": [
    {
      "cell_type": "markdown",
      "metadata": {},
      "source": [
        "# Preparação de Dados\n"
      ]
    },
    {
      "cell_type": "code",
      "execution_count": null,
      "metadata": {},
      "outputs": [],
      "source": [
        "import pandas as pd\n",
        "\n",
        "df = pd.read_csv(\"../data/clientes.csv\")\n",
        "df.columns = df.columns.str.lower()\n",
        "df['data_nascimento'] = pd.to_datetime(df['data_nascimento'], errors='coerce')\n",
        "\n",
        "from datetime import datetime\n",
        "ano_atual = datetime.today().year\n",
        "df['idade'] = ano_atual - df['data_nascimento'].dt.year\n",
        "\n",
        "df.head()"
      ]
    }
  ],
  "metadata": {},
  "nbformat": 4,
  "nbformat_minor": 5
}
