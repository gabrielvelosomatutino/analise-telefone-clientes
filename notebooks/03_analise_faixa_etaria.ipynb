{
  "cells": [
    {
      "cell_type": "markdown",
      "metadata": {},
      "source": [
        "# Análise por Faixa Etária\n",
        "Este notebook analisa a distribuição de clientes por faixa etária."
      ]
    },
    {
      "cell_type": "code",
      "execution_count": null,
      "metadata": {},
      "outputs": [],
      "source": [
        "import pandas as pd\n",
        "import matplotlib.pyplot as plt\n",
        "import seaborn as sns\n",
        "\n",
        "df = pd.read_csv(\"../data/clientes.csv\")\n",
        "df['data_nascimento'] = pd.to_datetime(df['data_nascimento'], errors='coerce')\n",
        "\n",
        "ano_atual = pd.Timestamp.today().year\n",
        "df['idade'] = ano_atual - df['data_nascimento'].dt.year\n",
        "\n",
        "bins = [0, 17, 24, 34, 44, 54, 64, 120]\n",
        "labels = ['<18', '18-24', '25-34', '35-44', '45-54', '55-64', '65+']\n",
        "df['faixa_etaria'] = pd.cut(df['idade'], bins=bins, labels=labels, right=True)\n",
        "\n",
        "faixa_counts = df['faixa_etaria'].value_counts().sort_index()\n",
        "\n",
        "plt.figure(figsize=(10,5))\n",
        "sns.barplot(x=faixa_counts.index, y=faixa_counts.values)\n",
        "plt.title(\"Distribuição de Clientes por Faixa Etária\")\n",
        "plt.xlabel(\"Faixa Etária\")\n",
        "plt.ylabel(\"Quantidade de Clientes\")\n",
        "plt.show()\n",
        "\n",
        "faixa_counts"
      ]
    }
  ],
  "metadata": {},
  "nbformat": 4,
  "nbformat_minor": 5
}