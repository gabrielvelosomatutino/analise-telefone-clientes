{
  "cells": [
    {
      "cell_type": "markdown",
      "metadata": {},
      "source": [
        "# Análise por DDD\n"
      ]
    },
    {
      "cell_type": "code",
      "execution_count": null,
      "metadata": {},
      "outputs": [],
      "source": [
        "import pandas as pd\n",
        "import matplotlib.pyplot as plt\n",
        "import seaborn as sns\n",
        "\n",
        "df = pd.read_csv(\"../data/clientes.csv\")\n",
        "df['ddd'] = df['telefone'].str[:2]\n",
        "\n",
        "ddd_counts = df['ddd'].value_counts()\n",
        "\n",
        "plt.figure(figsize=(10,5))\n",
        "sns.barplot(x=ddd_counts.index, y=ddd_counts.values)\n",
        "plt.title(\"Distribuição de Clientes por DDD\")\n",
        "plt.xlabel(\"DDD\")\n",
        "plt.ylabel(\"Quantidade de Clientes\")\n",
        "plt.show()\n",
        "\n",
        "ddd_counts.head()"
      ]
    }
  ],
  "metadata": {},
  "nbformat": 4,
  "nbformat_minor": 5
}
