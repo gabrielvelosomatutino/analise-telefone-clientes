{
  "cells": [
    {
      "cell_type": "markdown",
      "metadata": {},
      "source": [
        "# Storytelling da Análise\n",
        "Este notebook reúne os principais insights da análise dos clientes."
      ]
    },
    {
      "cell_type": "code",
      "execution_count": null,
      "metadata": {},
      "outputs": [],
      "source": [
        "import pandas as pd\n",
        "\n",
        "df = pd.read_csv(\"../data/clientes.csv\")\n",
        "df['data_nascimento'] = pd.to_datetime(df['data_nascimento'], errors='coerce')\n",
        "\n",
        "ano_atual = pd.Timestamp.today().year\n",
        "df['idade'] = ano_atual - df['data_nascimento'].dt.year\n",
        "\n",
        "bins = [0, 17, 24, 34, 44, 54, 64, 120]\n",
        "labels = ['<18', '18-24', '25-34', '35-44', '45-54', '55-64', '65+']\n",
        "df['faixa_etaria'] = pd.cut(df['idade'], bins=bins, labels=labels, right=True)\n",
        "\n",
        "print(\"📊 Insights do Estudo de Clientes:\\n\")\n",
        "\n",
        "top_ddd = df['telefone'].str[:2].value_counts().idxmax()\n",
        "print(f\"- O DDD com maior concentração de clientes é {top_ddd}.\")\n",
        "\n",
        "faixa_mais_comum = df['faixa_etaria'].value_counts().idxmax()\n",
        "print(f\"- A faixa etária predominante é {faixa_mais_comum}, sugerindo foco em campanhas para esse público.\")\n",
        "\n",
        "clientes_senior = (df['faixa_etaria'] == '65+').sum()\n",
        "print(f\"- Existem {clientes_senior} clientes acima de 65 anos, um público ainda pouco explorado.\")"
      ]
    }
  ],
  "metadata": {},
  "nbformat": 4,
  "nbformat_minor": 5
}